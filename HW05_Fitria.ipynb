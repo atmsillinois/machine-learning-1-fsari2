{
 "cells": [
  {
   "cell_type": "markdown",
   "metadata": {},
   "source": [
    "# M5 Machine Learning Pt. 1\n",
    "\n",
    "This notebook will explore the ability of different machine learning (multiple linear regression, polynomial regression, and random forest) to predict rain rate from the provided polarised radar dataset. \n",
    "\n",
    "The rwequired modules foro this notebook is `sklearn`"
   ]
  },
  {
   "cell_type": "markdown",
   "metadata": {},
   "source": [
    "### 1. Data preparation (load, process, and split the data)"
   ]
  },
  {
   "cell_type": "code",
   "execution_count": 44,
   "metadata": {},
   "outputs": [],
   "source": [
    "# import modules\n",
    "\n",
    "%matplotlib inline\n",
    "import matplotlib.pyplot as plt\n",
    "import numpy as np\n",
    "import pandas as pd\n",
    "from sklearn.metrics import mean_absolute_error, mean_squared_error, r2_score\n"
   ]
  },
  {
   "cell_type": "code",
   "execution_count": 45,
   "metadata": {},
   "outputs": [
    {
     "name": "stdout",
     "output_type": "stream",
     "text": [
      "<class 'pandas.core.frame.DataFrame'>\n",
      "RangeIndex: 18969 entries, 0 to 18968\n",
      "Data columns (total 8 columns):\n",
      " #   Column          Non-Null Count  Dtype  \n",
      "---  ------          --------------  -----  \n",
      " 0   Unnamed: 0      18969 non-null  int64  \n",
      " 1   Zh (dBZ)        18969 non-null  float64\n",
      " 2   Zdr (dB)        18969 non-null  float64\n",
      " 3   Ldr (dB)        18969 non-null  float64\n",
      " 4   Kdp (deg km-1)  18969 non-null  float64\n",
      " 5   Ah (dBZ/km)     18969 non-null  float64\n",
      " 6   Adr (dB/km)     18969 non-null  float64\n",
      " 7   R (mm/hr)       18969 non-null  float64\n",
      "dtypes: float64(7), int64(1)\n",
      "memory usage: 1.2 MB\n"
     ]
    }
   ],
   "source": [
    "# load the dataset\n",
    "\n",
    "df = pd.read_csv('homework/radar_parameters.csv', parse_dates=True)\n",
    "\n",
    "df.info()\n"
   ]
  },
  {
   "cell_type": "code",
   "execution_count": 46,
   "metadata": {},
   "outputs": [],
   "source": [
    "# drop unwanted column\n",
    "\n",
    "df.drop('Unnamed: 0', axis=1, inplace=True)\n"
   ]
  },
  {
   "cell_type": "code",
   "execution_count": 47,
   "metadata": {},
   "outputs": [
    {
     "data": {
      "text/html": [
       "<div>\n",
       "<style scoped>\n",
       "    .dataframe tbody tr th:only-of-type {\n",
       "        vertical-align: middle;\n",
       "    }\n",
       "\n",
       "    .dataframe tbody tr th {\n",
       "        vertical-align: top;\n",
       "    }\n",
       "\n",
       "    .dataframe thead th {\n",
       "        text-align: right;\n",
       "    }\n",
       "</style>\n",
       "<table border=\"1\" class=\"dataframe\">\n",
       "  <thead>\n",
       "    <tr style=\"text-align: right;\">\n",
       "      <th></th>\n",
       "      <th>Zh (dBZ)</th>\n",
       "      <th>Zdr (dB)</th>\n",
       "      <th>Ldr (dB)</th>\n",
       "      <th>Kdp (deg km-1)</th>\n",
       "      <th>Ah (dBZ/km)</th>\n",
       "      <th>Adr (dB/km)</th>\n",
       "      <th>R (mm/hr)</th>\n",
       "    </tr>\n",
       "  </thead>\n",
       "  <tbody>\n",
       "    <tr>\n",
       "      <th>count</th>\n",
       "      <td>18969.000000</td>\n",
       "      <td>18969.000000</td>\n",
       "      <td>18969.000000</td>\n",
       "      <td>18969.000000</td>\n",
       "      <td>18969.000000</td>\n",
       "      <td>18969.000000</td>\n",
       "      <td>18969.000000</td>\n",
       "    </tr>\n",
       "    <tr>\n",
       "      <th>mean</th>\n",
       "      <td>31.294021</td>\n",
       "      <td>0.762979</td>\n",
       "      <td>-37.969272</td>\n",
       "      <td>0.080879</td>\n",
       "      <td>0.001829</td>\n",
       "      <td>0.000234</td>\n",
       "      <td>7.855561</td>\n",
       "    </tr>\n",
       "    <tr>\n",
       "      <th>std</th>\n",
       "      <td>6.496330</td>\n",
       "      <td>0.363489</td>\n",
       "      <td>3.277391</td>\n",
       "      <td>0.221018</td>\n",
       "      <td>0.003469</td>\n",
       "      <td>0.000822</td>\n",
       "      <td>8.569413</td>\n",
       "    </tr>\n",
       "    <tr>\n",
       "      <th>min</th>\n",
       "      <td>14.036426</td>\n",
       "      <td>0.285207</td>\n",
       "      <td>-44.849249</td>\n",
       "      <td>0.000697</td>\n",
       "      <td>0.000044</td>\n",
       "      <td>0.000002</td>\n",
       "      <td>0.309399</td>\n",
       "    </tr>\n",
       "    <tr>\n",
       "      <th>25%</th>\n",
       "      <td>26.720145</td>\n",
       "      <td>0.489184</td>\n",
       "      <td>-40.573505</td>\n",
       "      <td>0.011537</td>\n",
       "      <td>0.000482</td>\n",
       "      <td>0.000027</td>\n",
       "      <td>3.072614</td>\n",
       "    </tr>\n",
       "    <tr>\n",
       "      <th>50%</th>\n",
       "      <td>31.020280</td>\n",
       "      <td>0.677804</td>\n",
       "      <td>-38.113140</td>\n",
       "      <td>0.028640</td>\n",
       "      <td>0.000977</td>\n",
       "      <td>0.000069</td>\n",
       "      <td>5.622457</td>\n",
       "    </tr>\n",
       "    <tr>\n",
       "      <th>75%</th>\n",
       "      <td>35.597165</td>\n",
       "      <td>0.947020</td>\n",
       "      <td>-35.601404</td>\n",
       "      <td>0.073099</td>\n",
       "      <td>0.001970</td>\n",
       "      <td>0.000182</td>\n",
       "      <td>9.622175</td>\n",
       "    </tr>\n",
       "    <tr>\n",
       "      <th>max</th>\n",
       "      <td>57.400639</td>\n",
       "      <td>3.843941</td>\n",
       "      <td>-25.373718</td>\n",
       "      <td>5.060710</td>\n",
       "      <td>0.082511</td>\n",
       "      <td>0.027538</td>\n",
       "      <td>195.557062</td>\n",
       "    </tr>\n",
       "  </tbody>\n",
       "</table>\n",
       "</div>"
      ],
      "text/plain": [
       "           Zh (dBZ)      Zdr (dB)      Ldr (dB)  Kdp (deg km-1)   Ah (dBZ/km)  \\\n",
       "count  18969.000000  18969.000000  18969.000000    18969.000000  18969.000000   \n",
       "mean      31.294021      0.762979    -37.969272        0.080879      0.001829   \n",
       "std        6.496330      0.363489      3.277391        0.221018      0.003469   \n",
       "min       14.036426      0.285207    -44.849249        0.000697      0.000044   \n",
       "25%       26.720145      0.489184    -40.573505        0.011537      0.000482   \n",
       "50%       31.020280      0.677804    -38.113140        0.028640      0.000977   \n",
       "75%       35.597165      0.947020    -35.601404        0.073099      0.001970   \n",
       "max       57.400639      3.843941    -25.373718        5.060710      0.082511   \n",
       "\n",
       "        Adr (dB/km)     R (mm/hr)  \n",
       "count  18969.000000  18969.000000  \n",
       "mean       0.000234      7.855561  \n",
       "std        0.000822      8.569413  \n",
       "min        0.000002      0.309399  \n",
       "25%        0.000027      3.072614  \n",
       "50%        0.000069      5.622457  \n",
       "75%        0.000182      9.622175  \n",
       "max        0.027538    195.557062  "
      ]
     },
     "execution_count": 47,
     "metadata": {},
     "output_type": "execute_result"
    }
   ],
   "source": [
    "# check the data properties \n",
    "\n",
    "df.describe()"
   ]
  },
  {
   "cell_type": "code",
   "execution_count": 48,
   "metadata": {},
   "outputs": [],
   "source": [
    "# drop any rows with null values\n",
    "\n",
    "df.dropna(axis=0, how='any', inplace=True)\n",
    "\n",
    "column_names = ['Zh (dBZ)', 'Zdr (dB)', 'Ldr (dB)', 'Kdp (deg km-1)', 'Ah (dBZ/km)', 'Adr (dB/km)']\n",
    "\n",
    "X = df[column_names]  # hyperparameters\n",
    "y = df['R (mm/hr)'] # target"
   ]
  },
  {
   "cell_type": "code",
   "execution_count": 49,
   "metadata": {},
   "outputs": [],
   "source": [
    "# split the dataset\n",
    "\n",
    "from sklearn.model_selection import train_test_split\n",
    "\n",
    "X_train, X_test, y_train, y_test = train_test_split(X, y, random_state=0,\n",
    "                                  train_size=0.7)                                               "
   ]
  },
  {
   "cell_type": "markdown",
   "metadata": {},
   "source": [
    "### 2. Multiple Linear Regression"
   ]
  },
  {
   "cell_type": "code",
   "execution_count": 50,
   "metadata": {},
   "outputs": [
    {
     "data": {
      "text/html": [
       "<style>#sk-container-id-3 {color: black;background-color: white;}#sk-container-id-3 pre{padding: 0;}#sk-container-id-3 div.sk-toggleable {background-color: white;}#sk-container-id-3 label.sk-toggleable__label {cursor: pointer;display: block;width: 100%;margin-bottom: 0;padding: 0.3em;box-sizing: border-box;text-align: center;}#sk-container-id-3 label.sk-toggleable__label-arrow:before {content: \"▸\";float: left;margin-right: 0.25em;color: #696969;}#sk-container-id-3 label.sk-toggleable__label-arrow:hover:before {color: black;}#sk-container-id-3 div.sk-estimator:hover label.sk-toggleable__label-arrow:before {color: black;}#sk-container-id-3 div.sk-toggleable__content {max-height: 0;max-width: 0;overflow: hidden;text-align: left;background-color: #f0f8ff;}#sk-container-id-3 div.sk-toggleable__content pre {margin: 0.2em;color: black;border-radius: 0.25em;background-color: #f0f8ff;}#sk-container-id-3 input.sk-toggleable__control:checked~div.sk-toggleable__content {max-height: 200px;max-width: 100%;overflow: auto;}#sk-container-id-3 input.sk-toggleable__control:checked~label.sk-toggleable__label-arrow:before {content: \"▾\";}#sk-container-id-3 div.sk-estimator input.sk-toggleable__control:checked~label.sk-toggleable__label {background-color: #d4ebff;}#sk-container-id-3 div.sk-label input.sk-toggleable__control:checked~label.sk-toggleable__label {background-color: #d4ebff;}#sk-container-id-3 input.sk-hidden--visually {border: 0;clip: rect(1px 1px 1px 1px);clip: rect(1px, 1px, 1px, 1px);height: 1px;margin: -1px;overflow: hidden;padding: 0;position: absolute;width: 1px;}#sk-container-id-3 div.sk-estimator {font-family: monospace;background-color: #f0f8ff;border: 1px dotted black;border-radius: 0.25em;box-sizing: border-box;margin-bottom: 0.5em;}#sk-container-id-3 div.sk-estimator:hover {background-color: #d4ebff;}#sk-container-id-3 div.sk-parallel-item::after {content: \"\";width: 100%;border-bottom: 1px solid gray;flex-grow: 1;}#sk-container-id-3 div.sk-label:hover label.sk-toggleable__label {background-color: #d4ebff;}#sk-container-id-3 div.sk-serial::before {content: \"\";position: absolute;border-left: 1px solid gray;box-sizing: border-box;top: 0;bottom: 0;left: 50%;z-index: 0;}#sk-container-id-3 div.sk-serial {display: flex;flex-direction: column;align-items: center;background-color: white;padding-right: 0.2em;padding-left: 0.2em;position: relative;}#sk-container-id-3 div.sk-item {position: relative;z-index: 1;}#sk-container-id-3 div.sk-parallel {display: flex;align-items: stretch;justify-content: center;background-color: white;position: relative;}#sk-container-id-3 div.sk-item::before, #sk-container-id-3 div.sk-parallel-item::before {content: \"\";position: absolute;border-left: 1px solid gray;box-sizing: border-box;top: 0;bottom: 0;left: 50%;z-index: -1;}#sk-container-id-3 div.sk-parallel-item {display: flex;flex-direction: column;z-index: 1;position: relative;background-color: white;}#sk-container-id-3 div.sk-parallel-item:first-child::after {align-self: flex-end;width: 50%;}#sk-container-id-3 div.sk-parallel-item:last-child::after {align-self: flex-start;width: 50%;}#sk-container-id-3 div.sk-parallel-item:only-child::after {width: 0;}#sk-container-id-3 div.sk-dashed-wrapped {border: 1px dashed gray;margin: 0 0.4em 0.5em 0.4em;box-sizing: border-box;padding-bottom: 0.4em;background-color: white;}#sk-container-id-3 div.sk-label label {font-family: monospace;font-weight: bold;display: inline-block;line-height: 1.2em;}#sk-container-id-3 div.sk-label-container {text-align: center;}#sk-container-id-3 div.sk-container {/* jupyter's `normalize.less` sets `[hidden] { display: none; }` but bootstrap.min.css set `[hidden] { display: none !important; }` so we also need the `!important` here to be able to override the default hidden behavior on the sphinx rendered scikit-learn.org. See: https://github.com/scikit-learn/scikit-learn/issues/21755 */display: inline-block !important;position: relative;}#sk-container-id-3 div.sk-text-repr-fallback {display: none;}</style><div id=\"sk-container-id-3\" class=\"sk-top-container\"><div class=\"sk-text-repr-fallback\"><pre>LinearRegression()</pre><b>In a Jupyter environment, please rerun this cell to show the HTML representation or trust the notebook. <br />On GitHub, the HTML representation is unable to render, please try loading this page with nbviewer.org.</b></div><div class=\"sk-container\" hidden><div class=\"sk-item\"><div class=\"sk-estimator sk-toggleable\"><input class=\"sk-toggleable__control sk-hidden--visually\" id=\"sk-estimator-id-3\" type=\"checkbox\" checked><label for=\"sk-estimator-id-3\" class=\"sk-toggleable__label sk-toggleable__label-arrow\">LinearRegression</label><div class=\"sk-toggleable__content\"><pre>LinearRegression()</pre></div></div></div></div></div>"
      ],
      "text/plain": [
       "LinearRegression()"
      ]
     },
     "execution_count": 50,
     "metadata": {},
     "output_type": "execute_result"
    }
   ],
   "source": [
    "# train the model use training dataset created from number 1\n",
    "\n",
    "from sklearn.linear_model import LinearRegression\n",
    "\n",
    "mod_regres = LinearRegression(fit_intercept=True)\n",
    "mod_regres.fit(X_train, y_train)"
   ]
  },
  {
   "cell_type": "code",
   "execution_count": 51,
   "metadata": {},
   "outputs": [],
   "source": [
    "# apply model for test data set \n",
    "\n",
    "R_lin_regres = mod_regres.predict(X_test)"
   ]
  },
  {
   "cell_type": "code",
   "execution_count": 52,
   "metadata": {},
   "outputs": [],
   "source": [
    "# calculate r2 score for multiple linear regression\n",
    "\n",
    "r2_lin_regres_train = r2_score(y_test.ravel(), R_lin_regres)\n",
    "rmse_lin_regres_train  = np.sqrt(mean_squared_error(y_test.ravel(), R_lin_regres))"
   ]
  },
  {
   "cell_type": "code",
   "execution_count": 57,
   "metadata": {},
   "outputs": [],
   "source": [
    "# calculate Z value from the given dBZ data\n",
    "# and adding to the data\n",
    "\n",
    "R_baseline = (10 ** (X_test['Zh (dBZ)']/10)/200) ** (1/1.6)\n"
   ]
  },
  {
   "cell_type": "code",
   "execution_count": 58,
   "metadata": {},
   "outputs": [],
   "source": [
    "# calculate r2 score of the available rain rate and rain rate from baseline equation\n",
    "\n",
    "r2_baseline = r2_score(y_test.ravel(), R_baseline)\n",
    "rmse_baseline  = np.sqrt(mean_squared_error(y_test.ravel(), R_baseline))"
   ]
  },
  {
   "cell_type": "code",
   "execution_count": 59,
   "metadata": {},
   "outputs": [
    {
     "name": "stdout",
     "output_type": "stream",
     "text": [
      "R2 Multiple Linear Regression = 0.98686\n",
      "R2 Baseline = 0.22661\n",
      "\n",
      "RMSE Multiple Linear Regression = 0.95836 mm/hr\n",
      "RMSE Baseline = 7.35239 mm/hr\n"
     ]
    }
   ],
   "source": [
    "# print and compare both models\n",
    "\n",
    "print('R2 Multiple Linear Regression = ' + str(round(r2_lin_regres_train, 5)))\n",
    "print('R2 Baseline = ' + str(round(r2_baseline, 5)))\n",
    "print()\n",
    "print('RMSE Multiple Linear Regression = ' + str(round(rmse_lin_regres_train, 5)) + ' mm/hr')\n",
    "print('RMSE Baseline = ' + str(round(rmse_baseline, 5)) + ' mm/hr')"
   ]
  },
  {
   "cell_type": "markdown",
   "metadata": {},
   "source": [
    "#### Answer\n",
    "Multiple linear regression outperfoms the baseline model using low-power equation in terms of $R^2$ and RMSE. "
   ]
  },
  {
   "cell_type": "markdown",
   "metadata": {},
   "source": [
    "### 3. Grid Search over Polynomials orders and cross-validation"
   ]
  },
  {
   "cell_type": "code",
   "execution_count": 60,
   "metadata": {},
   "outputs": [],
   "source": [
    "# import module and define the model\n",
    "\n",
    "from sklearn.preprocessing import PolynomialFeatures\n",
    "from sklearn.linear_model import LinearRegression\n",
    "from sklearn.pipeline import make_pipeline\n",
    "\n",
    "def PolynomialRegression(degree=np.arange(10), **kwargs):\n",
    "    return make_pipeline(PolynomialFeatures(degree),\n",
    "                         LinearRegression(**kwargs))"
   ]
  },
  {
   "cell_type": "code",
   "execution_count": 61,
   "metadata": {},
   "outputs": [],
   "source": [
    "# set the hyperparameter and cross validation for polinom model\n",
    "\n",
    "from sklearn.model_selection import GridSearchCV\n",
    "from sklearn.preprocessing import PolynomialFeatures\n",
    "\n",
    "param_grid = {'polynomialfeatures__degree': np.arange(10),\n",
    "              'linearregression__fit_intercept': [True, False],\n",
    "              'linearregression__normalize': [True, False]}\n",
    "\n",
    "grid = GridSearchCV(PolynomialRegression(), param_grid, cv=7)\n"
   ]
  },
  {
   "cell_type": "code",
   "execution_count": null,
   "metadata": {},
   "outputs": [],
   "source": [
    "# train the model with train dataset\n",
    "\n",
    "grid.fit(X_train, y_train)"
   ]
  },
  {
   "cell_type": "markdown",
   "metadata": {},
   "source": [
    "![lin_regress](figures/grid-search_polinom.png)"
   ]
  },
  {
   "cell_type": "code",
   "execution_count": null,
   "metadata": {},
   "outputs": [],
   "source": [
    "# save the fitted random forest model \n",
    "\n",
    "import joblib\n",
    "\n",
    "add_dir = '../backup/model/'\n",
    "filename = 'finalized_mod_polinom_10.sav'\n",
    "joblib.dump(grid, add_dir+filename)"
   ]
  },
  {
   "cell_type": "code",
   "execution_count": 62,
   "metadata": {},
   "outputs": [],
   "source": [
    "# open the saved GS polynom model \n",
    "\n",
    "import joblib\n",
    "\n",
    "add_dir = '../backup/model/'\n",
    "filename = 'finalized_mod_polinom_10.sav'\n",
    "grid_polinom = joblib.load(add_dir + filename)"
   ]
  },
  {
   "cell_type": "code",
   "execution_count": 63,
   "metadata": {},
   "outputs": [
    {
     "data": {
      "text/plain": [
       "{'linearregression__fit_intercept': True,\n",
       " 'linearregression__normalize': True,\n",
       " 'polynomialfeatures__degree': 2}"
      ]
     },
     "execution_count": 63,
     "metadata": {},
     "output_type": "execute_result"
    }
   ],
   "source": [
    "# get information of best parameter\n",
    "\n",
    "grid_polinom.best_params_"
   ]
  },
  {
   "cell_type": "code",
   "execution_count": null,
   "metadata": {},
   "outputs": [],
   "source": [
    "# set the model with best estimator\n",
    "mod_polinom = grid_polinom.best_estimator_\n",
    "\n",
    "# run the model with trained data\n",
    "R_grid_poli = mod_polinom.fit(X_train, y_train).predict(X_test)"
   ]
  },
  {
   "cell_type": "code",
   "execution_count": 65,
   "metadata": {},
   "outputs": [],
   "source": [
    "# calculate r2 score for multiple linear regression\n",
    "\n",
    "r2_grid_poli = r2_score(y_test.ravel(), R_grid_poli)\n",
    "rmse_grid_poli  = np.sqrt(mean_squared_error(y_test.ravel(), R_grid_poli))"
   ]
  },
  {
   "cell_type": "code",
   "execution_count": 66,
   "metadata": {},
   "outputs": [
    {
     "name": "stdout",
     "output_type": "stream",
     "text": [
      "R2 Multiple Linear Regression = 0.98686\n",
      "R2 Baseline = 0.22661\n",
      "R2 GS Polynomial Regression = 0.99943\n",
      "\n",
      "RMSE Multiple Linear Regression = 0.95836 mm/hr\n",
      "RMSE Baseline = 7.35239 mm/hr\n",
      "RMSE GS Polynomial Regression = 0.19891 mm/hr\n"
     ]
    }
   ],
   "source": [
    "# print the statistical of built-models and compare them\n",
    "\n",
    "print('R2 Multiple Linear Regression = ' + str(round(r2_lin_regres_train, 5)))\n",
    "print('R2 Baseline = ' + str(round(r2_baseline, 5)))\n",
    "print('R2 GS Polynomial Regression = ' + str(round(r2_grid_poli, 5)))\n",
    "print()\n",
    "print('RMSE Multiple Linear Regression = ' + str(round(rmse_lin_regres_train, 5)) + ' mm/hr')\n",
    "print('RMSE Baseline = ' + str(round(rmse_baseline, 5)) + ' mm/hr')\n",
    "print('RMSE GS Polynomial Regression = ' + str(round(rmse_grid_poli, 5)) + ' mm/hr')"
   ]
  },
  {
   "cell_type": "markdown",
   "metadata": {},
   "source": [
    "### Answer \n",
    "GS Polynomial Regression performs better than previous built-models, yet it required a lot of computation time. This could be the setting of cross-validation. "
   ]
  },
  {
   "cell_type": "markdown",
   "metadata": {},
   "source": [
    "### 4. Random Forest Regressor"
   ]
  },
  {
   "cell_type": "code",
   "execution_count": 67,
   "metadata": {},
   "outputs": [],
   "source": [
    "# import module\n",
    "\n",
    "from sklearn.model_selection import train_test_split, RandomizedSearchCV\n",
    "from sklearn.ensemble import RandomForestRegressor\n",
    "\n",
    "# create list of each hyper-parameter\n",
    "\n",
    "n_estimators_list = [200, 400, 600, 800, 1000, 1200, 1400, 1600, 1800, 2000]\n",
    "max_features_list = ['auto', 'sqrt']\n",
    "max_depth_list = [10, 20, 30, 40, 50, 60, 70, 80, 90, 100, None]\n",
    "min_samples_split_list = [2, 5, 10]\n",
    "min_samples_leaf_list = [1, 2, 4]\n",
    "bootstrap_list = [True, False]\n"
   ]
  },
  {
   "cell_type": "code",
   "execution_count": 68,
   "metadata": {},
   "outputs": [],
   "source": [
    "# structure model hyper-params as a dictionary\n",
    "\n",
    "rf_grid = {'n_estimators': n_estimators_list,\n",
    "           'max_features': max_features_list,\n",
    "           'max_depth': max_depth_list,\n",
    "           'min_samples_split': min_samples_split_list,\n",
    "           'min_samples_leaf': min_samples_leaf_list,\n",
    "           'bootstrap': bootstrap_list}"
   ]
  },
  {
   "cell_type": "code",
   "execution_count": 69,
   "metadata": {},
   "outputs": [],
   "source": [
    "# reate base LGBM model\n",
    "\n",
    "rf_base = RandomForestRegressor(random_state=42)"
   ]
  },
  {
   "cell_type": "code",
   "execution_count": 70,
   "metadata": {},
   "outputs": [],
   "source": [
    "# create random search for LGBM model\n",
    "\n",
    "rf_random = RandomizedSearchCV(estimator=rf_base, param_distributions=rf_grid, \n",
    "                                 n_iter=100, cv=7, verbose=2, random_state=42, \n",
    "                                 n_jobs=-1)"
   ]
  },
  {
   "cell_type": "code",
   "execution_count": null,
   "metadata": {},
   "outputs": [],
   "source": [
    "%%time\n",
    "# fit the random search LGBM model\n",
    "\n",
    "rf_random.fit(X_train, y_train)"
   ]
  },
  {
   "cell_type": "markdown",
   "metadata": {},
   "source": [
    "![rf-progressor](figures/rf-progressor.png)"
   ]
  },
  {
   "cell_type": "code",
   "execution_count": null,
   "metadata": {},
   "outputs": [],
   "source": [
    "# save the fitted random forest model \n",
    "\n",
    "import joblib\n",
    "\n",
    "add_dir = '../backup/model/'\n",
    "filename = 'finalized_model_rf_random_search_iter100.sav'\n",
    "joblib.dump(rf_random, add_dir + filename)"
   ]
  },
  {
   "cell_type": "code",
   "execution_count": 73,
   "metadata": {},
   "outputs": [],
   "source": [
    "# restore the saved random forest model \n",
    "\n",
    "import joblib\n",
    "\n",
    "add_dir = '../backup/model/'\n",
    "filename = 'finalized_model_rf_random_search_iter100.sav'\n",
    "rf_random = joblib.load(add_dir + filename)"
   ]
  },
  {
   "cell_type": "code",
   "execution_count": 74,
   "metadata": {},
   "outputs": [
    {
     "data": {
      "text/plain": [
       "{'n_estimators': 200,\n",
       " 'min_samples_split': 2,\n",
       " 'min_samples_leaf': 1,\n",
       " 'max_features': 'auto',\n",
       " 'max_depth': 50,\n",
       " 'bootstrap': True}"
      ]
     },
     "execution_count": 74,
     "metadata": {},
     "output_type": "execute_result"
    }
   ],
   "source": [
    "# get optimal hyper-params\n",
    "\n",
    "rf_random.best_params_"
   ]
  },
  {
   "cell_type": "code",
   "execution_count": 75,
   "metadata": {},
   "outputs": [
    {
     "data": {
      "text/plain": [
       "0.9779460891289645"
      ]
     },
     "execution_count": 75,
     "metadata": {},
     "output_type": "execute_result"
    }
   ],
   "source": [
    "# get score of best model during hyper-param tuning\n",
    "\n",
    "rf_random.best_score_"
   ]
  },
  {
   "cell_type": "code",
   "execution_count": 24,
   "metadata": {},
   "outputs": [],
   "source": [
    "# train model using optimal hyper-parameters from above steps\n",
    "\n",
    "mod_rf = RandomForestRegressor(**rf_random.best_params_, random_state=42)"
   ]
  },
  {
   "cell_type": "code",
   "execution_count": 76,
   "metadata": {},
   "outputs": [
    {
     "name": "stderr",
     "output_type": "stream",
     "text": [
      "/Users/fsari2/miniconda3/envs/py3/lib/python3.10/site-packages/sklearn/ensemble/_forest.py:416: FutureWarning: `max_features='auto'` has been deprecated in 1.1 and will be removed in 1.3. To keep the past behaviour, explicitly set `max_features=1.0` or remove this parameter as it is also the default value for RandomForestRegressors and ExtraTreesRegressors.\n",
      "  warn(\n"
     ]
    },
    {
     "data": {
      "text/html": [
       "<style>#sk-container-id-4 {color: black;background-color: white;}#sk-container-id-4 pre{padding: 0;}#sk-container-id-4 div.sk-toggleable {background-color: white;}#sk-container-id-4 label.sk-toggleable__label {cursor: pointer;display: block;width: 100%;margin-bottom: 0;padding: 0.3em;box-sizing: border-box;text-align: center;}#sk-container-id-4 label.sk-toggleable__label-arrow:before {content: \"▸\";float: left;margin-right: 0.25em;color: #696969;}#sk-container-id-4 label.sk-toggleable__label-arrow:hover:before {color: black;}#sk-container-id-4 div.sk-estimator:hover label.sk-toggleable__label-arrow:before {color: black;}#sk-container-id-4 div.sk-toggleable__content {max-height: 0;max-width: 0;overflow: hidden;text-align: left;background-color: #f0f8ff;}#sk-container-id-4 div.sk-toggleable__content pre {margin: 0.2em;color: black;border-radius: 0.25em;background-color: #f0f8ff;}#sk-container-id-4 input.sk-toggleable__control:checked~div.sk-toggleable__content {max-height: 200px;max-width: 100%;overflow: auto;}#sk-container-id-4 input.sk-toggleable__control:checked~label.sk-toggleable__label-arrow:before {content: \"▾\";}#sk-container-id-4 div.sk-estimator input.sk-toggleable__control:checked~label.sk-toggleable__label {background-color: #d4ebff;}#sk-container-id-4 div.sk-label input.sk-toggleable__control:checked~label.sk-toggleable__label {background-color: #d4ebff;}#sk-container-id-4 input.sk-hidden--visually {border: 0;clip: rect(1px 1px 1px 1px);clip: rect(1px, 1px, 1px, 1px);height: 1px;margin: -1px;overflow: hidden;padding: 0;position: absolute;width: 1px;}#sk-container-id-4 div.sk-estimator {font-family: monospace;background-color: #f0f8ff;border: 1px dotted black;border-radius: 0.25em;box-sizing: border-box;margin-bottom: 0.5em;}#sk-container-id-4 div.sk-estimator:hover {background-color: #d4ebff;}#sk-container-id-4 div.sk-parallel-item::after {content: \"\";width: 100%;border-bottom: 1px solid gray;flex-grow: 1;}#sk-container-id-4 div.sk-label:hover label.sk-toggleable__label {background-color: #d4ebff;}#sk-container-id-4 div.sk-serial::before {content: \"\";position: absolute;border-left: 1px solid gray;box-sizing: border-box;top: 0;bottom: 0;left: 50%;z-index: 0;}#sk-container-id-4 div.sk-serial {display: flex;flex-direction: column;align-items: center;background-color: white;padding-right: 0.2em;padding-left: 0.2em;position: relative;}#sk-container-id-4 div.sk-item {position: relative;z-index: 1;}#sk-container-id-4 div.sk-parallel {display: flex;align-items: stretch;justify-content: center;background-color: white;position: relative;}#sk-container-id-4 div.sk-item::before, #sk-container-id-4 div.sk-parallel-item::before {content: \"\";position: absolute;border-left: 1px solid gray;box-sizing: border-box;top: 0;bottom: 0;left: 50%;z-index: -1;}#sk-container-id-4 div.sk-parallel-item {display: flex;flex-direction: column;z-index: 1;position: relative;background-color: white;}#sk-container-id-4 div.sk-parallel-item:first-child::after {align-self: flex-end;width: 50%;}#sk-container-id-4 div.sk-parallel-item:last-child::after {align-self: flex-start;width: 50%;}#sk-container-id-4 div.sk-parallel-item:only-child::after {width: 0;}#sk-container-id-4 div.sk-dashed-wrapped {border: 1px dashed gray;margin: 0 0.4em 0.5em 0.4em;box-sizing: border-box;padding-bottom: 0.4em;background-color: white;}#sk-container-id-4 div.sk-label label {font-family: monospace;font-weight: bold;display: inline-block;line-height: 1.2em;}#sk-container-id-4 div.sk-label-container {text-align: center;}#sk-container-id-4 div.sk-container {/* jupyter's `normalize.less` sets `[hidden] { display: none; }` but bootstrap.min.css set `[hidden] { display: none !important; }` so we also need the `!important` here to be able to override the default hidden behavior on the sphinx rendered scikit-learn.org. See: https://github.com/scikit-learn/scikit-learn/issues/21755 */display: inline-block !important;position: relative;}#sk-container-id-4 div.sk-text-repr-fallback {display: none;}</style><div id=\"sk-container-id-4\" class=\"sk-top-container\"><div class=\"sk-text-repr-fallback\"><pre>RandomForestRegressor(max_depth=50, max_features=&#x27;auto&#x27;, n_estimators=200,\n",
       "                      random_state=42)</pre><b>In a Jupyter environment, please rerun this cell to show the HTML representation or trust the notebook. <br />On GitHub, the HTML representation is unable to render, please try loading this page with nbviewer.org.</b></div><div class=\"sk-container\" hidden><div class=\"sk-item\"><div class=\"sk-estimator sk-toggleable\"><input class=\"sk-toggleable__control sk-hidden--visually\" id=\"sk-estimator-id-4\" type=\"checkbox\" checked><label for=\"sk-estimator-id-4\" class=\"sk-toggleable__label sk-toggleable__label-arrow\">RandomForestRegressor</label><div class=\"sk-toggleable__content\"><pre>RandomForestRegressor(max_depth=50, max_features=&#x27;auto&#x27;, n_estimators=200,\n",
       "                      random_state=42)</pre></div></div></div></div></div>"
      ],
      "text/plain": [
       "RandomForestRegressor(max_depth=50, max_features='auto', n_estimators=200,\n",
       "                      random_state=42)"
      ]
     },
     "execution_count": 76,
     "metadata": {},
     "output_type": "execute_result"
    }
   ],
   "source": [
    "# fit the best rf model to train dataset\n",
    "\n",
    "mod_rf.fit(X_train, y_train)"
   ]
  },
  {
   "cell_type": "code",
   "execution_count": 77,
   "metadata": {},
   "outputs": [],
   "source": [
    "# predict R using rf model \n",
    "\n",
    "R_rf = mod_rf.predict(X_test)"
   ]
  },
  {
   "cell_type": "code",
   "execution_count": 79,
   "metadata": {},
   "outputs": [],
   "source": [
    "# calculate r2 score for random forest model\n",
    "\n",
    "r2_rf = r2_score(y_test.ravel(), R_rf)\n",
    "rmse_rf  = np.sqrt(mean_squared_error(y_test.ravel(), R_rf))\n"
   ]
  },
  {
   "cell_type": "code",
   "execution_count": 80,
   "metadata": {},
   "outputs": [
    {
     "data": {
      "image/png": "[encoded data removed]",
      "text/plain": [
       "<Figure size 800x800 with 4 Axes>"
      ]
     },
     "metadata": {},
     "output_type": "display_data"
    }
   ],
   "source": [
    "# visual;ize the data on scatter plot\n",
    "# set size and subplot\n",
    "fig, axes = plt.subplots(nrows=2, ncols=2, figsize=(8, 8))\n",
    "fig.suptitle('Comparison Rain-rate (mm/h) Prediction for Different Model', fontsize=14)\n",
    "\n",
    "# visualize \n",
    "axes[0,0].scatter(y_test, R_baseline)\n",
    "axes[0,1].scatter(y_test, R_lin_regres)\n",
    "axes[1,0].scatter(y_test, R_grid_poli)\n",
    "axes[1,1].scatter(y_test, R_rf)\n",
    "\n",
    "# set title fro each subplots\n",
    "axes[0,0].set_title(\"Baseline - Low Power Eq. \")\n",
    "axes[0,1].set_title(\"Multiple Linear Regression\")\n",
    "axes[1,0].set_title(\"Grid-search Polynomial Regression\")\n",
    "axes[1,1].set_title(\"Random Forest Regressor\")\n",
    "\n",
    "# set the outer axis label for subplots\n",
    "plt.setp(axes[-1, :], xlabel='Actual')\n",
    "plt.setp(axes[:, 0], ylabel='Predicted')\n",
    "\n",
    "# set all the axis limit\n",
    "plt.setp(axes, ylim=(0, 150))\n",
    "plt.setp(axes, xlim=(0, 200))\n",
    "\n",
    "# show r2 and rmse on subplots\n",
    "axes[0,0].text(125, 10, '$R^2 =$' + str (round(r2_baseline, 5)), fontsize=9)\n",
    "axes[0,0].text(125, 5, '$RMSE =$' + str (round(rmse_baseline, 5)), fontsize=9)\n",
    "\n",
    "axes[0,1].text(125, 10, '$R^2 =$' + str (round(r2_lin_regres_train, 5)), fontsize=9)\n",
    "axes[0,1].text(125, 5, '$RMSE =$' + str (round(rmse_lin_regres_train, 5)), fontsize=9)\n",
    "\n",
    "axes[1,0].text(125, 10, '$R^2 =$' + str (round(r2_grid_poli, 5)), fontsize=9)\n",
    "axes[1,0].text(125, 5, '$RMSE =$' + str (round(rmse_grid_poli, 5)), fontsize=9)\n",
    "\n",
    "axes[1,1].text(125, 10, '$R^2 =$' + str (round(r2_rf, 5)), fontsize=9)\n",
    "axes[1,1].text(125, 5, '$RMSE =$' + str (round(rmse_rf, 5)), fontsize=9)\n",
    "\n",
    "fig.tight_layout()\n",
    "plt.show()"
   ]
  },
  {
   "cell_type": "markdown",
   "metadata": {},
   "source": [
    "### Answer \n",
    "Among all built-models, GS Polynomial Regression perform best both for $R^2$ and RMSE. The randomized RF model consumed more computation time but it did not worth for the accuracy. "
   ]
  }
 ],
 "metadata": {
  "kernelspec": {
   "display_name": "Python 3.10.4 ('py3')",
   "language": "python",
   "name": "python3"
  },
  "language_info": {
   "codemirror_mode": {
    "name": "ipython",
    "version": 3
   },
   "file_extension": ".py",
   "mimetype": "text/x-python",
   "name": "python",
   "nbconvert_exporter": "python",
   "pygments_lexer": "ipython3",
   "version": "3.10.4"
  },
  "orig_nbformat": 4,
  "vscode": {
   "interpreter": {
    "hash": "673c204981f85397a90ee7e0b0f24b2514ef88ace53c6a1c3abf09bb3e5d6494"
   }
  }
 },
 "nbformat": 4,
 "nbformat_minor": 2
}
